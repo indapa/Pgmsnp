{
 "metadata": {
  "name": "pgmsnp"
 }, 
 "nbformat": 2, 
 "worksheets": [
  {
   "cells": [
    {
     "cell_type": "code", 
     "collapsed": true, 
     "input": [
      "import pysam", 
      "import sys", 
      "from BedFile import Bedfile", 
      "from PileupData import PileupData", 
      "from PileupFactory import PileupFactory", 
      "from PgmsnpCommon import *", 
      "from common import *", 
      "import profile", 
      "from PGMcommon import *", 
      "\"\"\" given a BAM file and Bedfile, iterate through pileup columns defined by the bed interval ", 
      "    Do the simpliest thing that can possible work \"\"\"", 
      "", 
      "bamfilename='/Users/amit/BCResearch/OlivierData/Project_TOPSWga/AlignmentGazing/wga.SNP.novel.12:82756:82957.bam'", 
      "pybamfile = pysam.Samfile(bamfilename, \"rb\" )", 
      "bedobj=Bedfile('/Users/amit/software/Pgmsnp/src/test.bed')", 
      "Pfactory=PileupFactory(pybamfile,bedobj)", 
      "GLFactor= Factor( [1,2], [1,10], [],'read_phenotype | genotype')", 
      "#tell the factory object to make PileupData objects", 
      "for pileup_obj in Pfactory.yieldPileupData():", 
      "    #print 'Pileup position: ', pileup_obj", 
      "    # the PileupData object contains pileup for all samples in the bam", 
      "    # we can iterate through pileup column by each sample's pileup", 
      "    for (sample,pileup_sample_data) in pileup_obj.yieldSamplePileupData():", 
      "        ", 
      "        #profile.run ( 'print calculateGLL(pileup_sample_data);  ')", 
      "        #print pileup_sample_data", 
      "        value=calculateGLL(pileup_sample_data)", 
      "        #GLFactor.setVal( value )", 
      "        ", 
      "        #print GLFactor", 
      "    #print \"--\""
     ], 
     "language": "python", 
     "outputs": [], 
     "prompt_number": 8
    }, 
    {
     "cell_type": "code", 
     "collapsed": false, 
     "input": [
      "import itertools", 
      "from PileupData import PileupData", 
      "things=things = [(\"animal\", \"bear\"), (\"animal\", \"duck\"), (\"plant\", \"cactus\"), (\"vehicle\", \"speed boat\"), (\"vehicle\", \"school bus\")]", 
      "for key, group in itertools.groupby(things, lambda x: x[0]):", 
      "    listOfThings = [ thing[1] for thing in group ] ", 
      "    print listOfThings", 
      "    "
     ], 
     "language": "python", 
     "outputs": [
      {
       "output_type": "stream", 
       "stream": "stdout", 
       "text": [
        "['bear', 'duck']", 
        "['cactus']", 
        "['speed boat', 'school bus']"
       ]
      }
     ], 
     "prompt_number": 3
    }, 
    {
     "cell_type": "code", 
     "collapsed": false, 
     "input": [
      "print returnGenotypeGivenParentsFactor(2,3,2,1)"
     ], 
     "language": "python", 
     "outputs": [
      {
       "output_type": "stream", 
       "stream": "stdout", 
       "text": [
        "name: None", 
        "var: 3 2 1", 
        "card: 3 3 3", 
        "val: 1.0 0.0 0.0 0.5 0.5 0.0 0.0 1.0 0.0 0.5 0.5 0.0 0.25 0.5 0.25 0.0 0.5 0.5 0.0 1.0 0.0 0.0 0.5 0.5 0.0 0.0 1.0"
       ]
      }
     ], 
     "prompt_number": 9
    }, 
    {
     "cell_type": "code", 
     "collapsed": true, 
     "input": [
      "def returnGenotypePriorFounderFactor( refbase,altbases,genotypePrior, theta=0.001,ploidy=2):", 
      "    \"\"\" Not sure this is right, but its simple enough", 
      "        This function returns a factor representing genotype priors, passing in the", 
      "        reference base, and list of alt alelles in altbase. genotypePrior is the name of the variable", 
      "        theta is heterozygosity rate set to .001 by default and ploidy is set to 2", 
      "        prior(ref homoz=1-3(theta/2), het=theta, alt homoz=theta/2  \"\"\"", 
      "    ", 
      "    alleleList=([refbase]+altbases)", 
      "    print ''.join(alleleList)", 
      "    numAlleles=len(alleleList)", 
      "    f1= Factor( [genotypePrior ], [ ], [ ], 'genotypePrior')", 
      "    (allelesToGenotypes, genotypesToAlleles)=generateAlleleGenotypeMappers(numAlleles)", 
      "    (ngenos,ploidy)=np.shape(genotypesToAlleles)", 
      "    f1.setCard([ ngenos] )", 
      "    values=np.zeros( (np.prod(f1.getCard()))).tolist()", 
      "    #print values", 
      "    l=[ \"\".join( list(combo)) for combo in itertools.combinations_with_replacement(alleleList,ploidy) ]", 
      "    #l=[ \"\".join( list(combo)) for combo in itertools.product(alleleList,repeat=ploidy) ]", 
      "    print l", 
      "    for i in range(ngenos):", 
      "        genotype=indexToGenotype(i, ''.join(alleleList) )", 
      "        (a1,a2)=list(genotype)", 
      "        #print a1,a2", 
      "        if a1 == a2 and refbase not in genotype:", 
      "            print genotype, 'non-ref homoz'", 
      "            values[i]=(theta / 2.)", 
      "        elif a1==a2==refbase:", 
      "            print genotype, 'homoz reference'", 
      "            values[i]= 1 - (3*(theta/2.))", 
      "        elif a1!=a2 and refbase in genotype:", 
      "            print genotype, 'heterzygote'", 
      "            values[i]=theta", 
      "        else:", 
      "            print genotype, 'tri-alleleic het'", 
      "            values[i]=np.power( [ theta/2 ], 3).tolist()[0]", 
      "    #print values", 
      "    f1.setVal(values)", 
      "    return f1"
     ], 
     "language": "python", 
     "outputs": [], 
     "prompt_number": 1
    }, 
    {
     "cell_type": "code", 
     "collapsed": false, 
     "input": [
      "returnGenotypeGivenGenotypePriors('G',['A'], 'mu')"
     ], 
     "language": "python", 
     "outputs": [
      {
       "ename": "NameError", 
       "evalue": "name 'returnGenotypeGivenGenotypePriors' is not defined", 
       "output_type": "pyerr", 
       "traceback": [
        "\u001b[0;31m---------------------------------------------------------------------------\u001b[0m\n\u001b[0;31mNameError\u001b[0m                                 Traceback (most recent call last)", 
        "\u001b[0;32m/Users/amit/software/Pgmsnp/PythonNotebook/<ipython-input-2-35a05eec9e6c>\u001b[0m in \u001b[0;36m<module>\u001b[0;34m()\u001b[0m\n\u001b[0;32m----> 1\u001b[0;31m \u001b[0mreturnGenotypeGivenGenotypePriors\u001b[0m\u001b[0;34m(\u001b[0m\u001b[0;34m'G'\u001b[0m\u001b[0;34m,\u001b[0m\u001b[0;34m[\u001b[0m\u001b[0;34m'A'\u001b[0m\u001b[0;34m]\u001b[0m\u001b[0;34m,\u001b[0m \u001b[0;34m'mu'\u001b[0m\u001b[0;34m)\u001b[0m\u001b[0;34m\u001b[0m\u001b[0m\n\u001b[0m", 
        "\u001b[0;31mNameError\u001b[0m: name 'returnGenotypeGivenGenotypePriors' is not defined"
       ]
      }
     ], 
     "prompt_number": 2
    }, 
    {
     "cell_type": "code", 
     "collapsed": false, 
     "input": [
      "refbase='A'", 
      "altbases=['G']", 
      "alleleList= [refbase]+altbases", 
      "print alleleList"
     ], 
     "language": "python", 
     "outputs": [
      {
       "output_type": "stream", 
       "stream": "stdout", 
       "text": [
        "['A', 'G']"
       ]
      }
     ], 
     "prompt_number": 64
    }, 
    {
     "cell_type": "code", 
     "collapsed": false, 
     "input": [
      "for foo in itertools.combinations(['A','G'],2) ]:", 
      "    print foo"
     ], 
     "language": "python", 
     "outputs": [
      {
       "ename": "SyntaxError", 
       "evalue": "invalid syntax (<ipython-input-78-2a159b5a10de>, line 1)", 
       "output_type": "pyerr", 
       "traceback": [
        "\u001b[0;36m  File \u001b[0;32m\"<ipython-input-78-2a159b5a10de>\"\u001b[0;36m, line \u001b[0;32m1\u001b[0m\n\u001b[0;31m    for foo in itertools.combinations(['A','G'],2) ]:\u001b[0m\n\u001b[0m                                                   ^\u001b[0m\n\u001b[0;31mSyntaxError\u001b[0m\u001b[0;31m:\u001b[0m invalid syntax\n"
       ]
      }
     ], 
     "prompt_number": 78
    }, 
    {
     "cell_type": "code", 
     "collapsed": false, 
     "input": [
      "#l=[ \"\".join( list(combo)) for combo in itertools.combinations_with_replacement(['A','C','G','T'],2) ]", 
      "l=[ \"\".join( list(combo)) for combo in itertools.product(['A','C','G','T'],repeat=2) ]", 
      "print l"
     ], 
     "language": "python", 
     "outputs": [
      {
       "output_type": "stream", 
       "stream": "stdout", 
       "text": [
        "['AA', 'AC', 'AG', 'AT', 'CA', 'CC', 'CG', 'CT', 'GA', 'GC', 'GG', 'GT', 'TA', 'TC', 'TG', 'TT']"
       ]
      }
     ], 
     "prompt_number": 93
    }, 
    {
     "cell_type": "code", 
     "collapsed": false, 
     "input": [
      "indexToGenotype(2,'GA')"
     ], 
     "language": "python", 
     "outputs": [
      {
       "output_type": "pyout", 
       "prompt_number": 102, 
       "text": [
        "'AA'"
       ]
      }
     ], 
     "prompt_number": 102
    }, 
    {
     "cell_type": "code", 
     "collapsed": true, 
     "input": [], 
     "language": "python", 
     "outputs": []
    }
   ]
  }
 ]
}