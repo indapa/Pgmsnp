{
 "metadata": {
  "name": "pedgraph"
 }, 
 "nbformat": 2, 
 "worksheets": [
  {
   "cells": [
    {
     "cell_type": "code", 
     "collapsed": false, 
     "input": [
      "from Genotype import *", 
      "", 
      "g=Genotype('AA',2)"
     ], 
     "language": "python", 
     "outputs": [], 
     "prompt_number": 3
    }, 
    {
     "cell_type": "code", 
     "collapsed": false, 
     "input": [
      "print g"
     ], 
     "language": "python", 
     "outputs": [
      {
       "output_type": "stream", 
       "stream": "stdout", 
       "text": [
        "AA\t2"
       ]
      }
     ], 
     "prompt_number": 4
    }, 
    {
     "cell_type": "code", 
     "collapsed": false, 
     "input": [
      "from itertools import *", 
      "genotypes=[] #list of Genotype objects", 
      "ploidys=[2]", 
      "", 
      "for p in ploidys:", 
      "    l=[ combo for combo in combinations_with_replacement(['A','C','G','T'],p) ]", 
      "    for g in l:", 
      "        genotype=\"\".join( list(g) )", 
      "        genotypes.append( Genotype( genotype, p) )", 
      "for obj in genotypes:", 
      "    print obj"
     ], 
     "language": "python", 
     "outputs": [
      {
       "output_type": "stream", 
       "stream": "stdout", 
       "text": [
        "AA\t2", 
        "AC\t2", 
        "AG\t2", 
        "AT\t2", 
        "CC\t2", 
        "CG\t2", 
        "CT\t2", 
        "GG\t2", 
        "GT\t2", 
        "TT\t2"
       ]
      }
     ], 
     "prompt_number": 10
    }, 
    {
     "cell_type": "code", 
     "collapsed": true, 
     "input": [], 
     "language": "python", 
     "outputs": []
    }
   ]
  }
 ]
}