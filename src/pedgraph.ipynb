{
 "metadata": {
  "name": "pedgraph"
 }, 
 "nbformat": 2, 
 "worksheets": [
  {
   "cells": [
    {
     "cell_type": "code", 
     "collapsed": true, 
     "input": [
      "from Genotype import *", 
      "", 
      "g=Genotype('AA',2)"
     ], 
     "language": "python", 
     "outputs": [], 
     "prompt_number": 10
    }, 
    {
     "cell_type": "code", 
     "collapsed": false, 
     "input": [
      "print g"
     ], 
     "language": "python", 
     "outputs": [
      {
       "output_type": "stream", 
       "stream": "stdout", 
       "text": [
        "AA\t2"
       ]
      }
     ], 
     "prompt_number": 11
    }, 
    {
     "cell_type": "code", 
     "collapsed": false, 
     "input": [
      ""
     ], 
     "language": "python", 
     "outputs": [
      {
       "output_type": "stream", 
       "stream": "stdout", 
       "text": [
        "AA\t2", 
        "AC\t2", 
        "AG\t2", 
        "AT\t2", 
        "CC\t2", 
        "CG\t2", 
        "CT\t2", 
        "GG\t2", 
        "GT\t2", 
        "TT\t2"
       ]
      }
     ], 
     "prompt_number": 12
    }, 
    {
     "cell_type": "code", 
     "collapsed": false, 
     "input": [
      "import math", 
      "def PhredScore ( errorprob):", 
      "    return   -10 * math.log10(errorprob)", 
      "def ErrorProb( phredscore ):", 
      "    return pow(10,(-phredscore/10))", 
      "print PhredScore( .10) "
     ], 
     "language": "python", 
     "outputs": [
      {
       "output_type": "stream", 
       "stream": "stdout", 
       "text": [
        "10.0"
       ]
      }
     ], 
     "prompt_number": 13
    }, 
    {
     "cell_type": "code", 
     "collapsed": false, 
     "input": [
      "print ErrorProb(10)"
     ], 
     "language": "python", 
     "outputs": [
      {
       "output_type": "stream", 
       "stream": "stdout", 
       "text": [
        "0.1"
       ]
      }
     ], 
     "prompt_number": 14
    }, 
    {
     "cell_type": "code", 
     "collapsed": false, 
     "input": [
      "phredscores =[ 10,20,30,40]", 
      "for p in phredscores:", 
      "    print ErrorProb(p)"
     ], 
     "language": "python", 
     "outputs": [
      {
       "output_type": "stream", 
       "stream": "stdout", 
       "text": [
        "0.1", 
        "0.01", 
        "0.001", 
        "0.0001"
       ]
      }
     ], 
     "prompt_number": 15
    }, 
    {
     "cell_type": "code", 
     "collapsed": false, 
     "input": [
      "errors=[.1,.01,.001,.0001]", 
      "for e in errors:", 
      "    print PhredScore(e)"
     ], 
     "language": "python", 
     "outputs": [
      {
       "output_type": "stream", 
       "stream": "stdout", 
       "text": [
        "10.0", 
        "20.0", 
        "30.0", 
        "40.0"
       ]
      }
     ], 
     "prompt_number": 16
    }, 
    {
     "cell_type": "code", 
     "collapsed": true, 
     "input": [
      "from common import *"
     ], 
     "language": "python", 
     "outputs": [], 
     "prompt_number": 17
    }, 
    {
     "cell_type": "code", 
     "collapsed": false, 
     "input": [
      "import numpy as np", 
      "from itertools import *", 
      "genotypes=[] #list of Genotype objects", 
      "ploidys=[2]", 
      "for p in ploidys:", 
      "    l=[ combo for combo in combinations_with_replacement(['A','C','G','T'],p) ]", 
      "    for g in l:", 
      "        genotype=\"\".join( list(g) )", 
      "        genotypes.append( Genotype( genotype, p) )", 
      "", 
      "pileup=[('A', 22), ('A', 4), ('T', 29)]", 
      "h=len(pileup)", 
      "likelihood_matrix=np.zeros( (h,10) )", 
      "print likelihood_matrix", 
      "for i in range(h):", 
      "    (calledBase, phred)=pileup[i]", 
      "    #print calledBase, phred", 
      "    for j in range( len( genotypes)):", 
      "", 
      "        errorprob=ErrorProb( phred)", 
      "       #print g.calculateBaseLikelihood(calledBase,errorprob), math.log10(g.calculateBaseLikelihood(calledBase,errorprob))", 
      "        #print genotypes[j].calculateBaseLikelihood(calledBase,errorprob)", 
      "        likelihood_matrix[i,j]=genotypes[j].calculateBaseLikelihood(calledBase,errorprob)", 
      "print likelihood_matrix", 
      "print np.log(likelihood_matrix)"
     ], 
     "language": "python", 
     "outputs": [
      {
       "output_type": "stream", 
       "stream": "stdout", 
       "text": [
        "[[ 0.  0.  0.  0.  0.  0.  0.  0.  0.  0.]", 
        " [ 0.  0.  0.  0.  0.  0.  0.  0.  0.  0.]", 
        " [ 0.  0.  0.  0.  0.  0.  0.  0.  0.  0.]]", 
        "[[  9.99000000e-01   4.99666667e-01   4.99666667e-01   4.99666667e-01", 
        "    3.33333333e-04   3.33333333e-04   3.33333333e-04   3.33333333e-04", 
        "    3.33333333e-04   3.33333333e-04]", 
        " [  9.00000000e-01   4.66666667e-01   4.66666667e-01   4.66666667e-01", 
        "    3.33333333e-02   3.33333333e-02   3.33333333e-02   3.33333333e-02", 
        "    3.33333333e-02   3.33333333e-02]", 
        " [  3.33333333e-04   3.33333333e-04   3.33333333e-04   4.99666667e-01", 
        "    3.33333333e-04   3.33333333e-04   4.99666667e-01   3.33333333e-04", 
        "    4.99666667e-01   9.99000000e-01]]", 
        "[[ -1.00050033e-03  -6.93814070e-01  -6.93814070e-01  -6.93814070e-01", 
        "   -8.00636757e+00  -8.00636757e+00  -8.00636757e+00  -8.00636757e+00", 
        "   -8.00636757e+00  -8.00636757e+00]", 
        " [ -1.05360516e-01  -7.62140052e-01  -7.62140052e-01  -7.62140052e-01", 
        "   -3.40119738e+00  -3.40119738e+00  -3.40119738e+00  -3.40119738e+00", 
        "   -3.40119738e+00  -3.40119738e+00]", 
        " [ -8.00636757e+00  -8.00636757e+00  -8.00636757e+00  -6.93814070e-01", 
        "   -8.00636757e+00  -8.00636757e+00  -6.93814070e-01  -8.00636757e+00", 
        "   -6.93814070e-01  -1.00050033e-03]]"
       ]
      }
     ], 
     "prompt_number": 96
    }, 
    {
     "cell_type": "code", 
     "collapsed": false, 
     "input": [
      "a = np.array([[0, 0], [0, 0], [0, 0]])", 
      "print a"
     ], 
     "language": "python", 
     "outputs": [
      {
       "output_type": "stream", 
       "stream": "stdout", 
       "text": [
        "[[0 0]", 
        " [0 0]", 
        " [0 0]]"
       ]
      }
     ], 
     "prompt_number": 60
    }, 
    {
     "cell_type": "code", 
     "collapsed": false, 
     "input": [
      "for i in range(3):", 
      "    print i", 
      "    a[i,1]=1", 
      "    "
     ], 
     "language": "python", 
     "outputs": [
      {
       "output_type": "stream", 
       "stream": "stdout", 
       "text": [
        "0", 
        "1", 
        "2"
       ]
      }
     ], 
     "prompt_number": 61
    }, 
    {
     "cell_type": "code", 
     "collapsed": false, 
     "input": [
      "print a"
     ], 
     "language": "python", 
     "outputs": [
      {
       "output_type": "stream", 
       "stream": "stdout", 
       "text": [
        "[[0 1]", 
        " [0 1]", 
        " [0 1]]"
       ]
      }
     ], 
     "prompt_number": 62
    }, 
    {
     "cell_type": "code", 
     "collapsed": true, 
     "input": [], 
     "language": "python", 
     "outputs": []
    }
   ]
  }
 ]
}